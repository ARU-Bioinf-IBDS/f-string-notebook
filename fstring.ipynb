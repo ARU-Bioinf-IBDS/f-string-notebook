{
 "cells": [
  {
   "cell_type": "markdown",
   "metadata": {},
   "source": [
    "# Introducing Python f-strings\n",
    "\n",
    "This notebook is a clean up of a demonstration of how Python f-strings can help you produce clear print out that is readable."
   ]
  },
  {
   "cell_type": "markdown",
   "metadata": {},
   "source": [
    "## What you have seen so far\n",
    "DataCamp has shown you how you can use string concatenation to produce print outs.\n",
    "\n",
    "So for instance to print a variable `name` with a line `My name is ....` you would:  "
   ]
  },
  {
   "cell_type": "code",
   "execution_count": 1,
   "metadata": {},
   "outputs": [
    {
     "name": "stdout",
     "output_type": "stream",
     "text": [
      "my name is Zoe\n"
     ]
    }
   ],
   "source": [
    "name = 'Zoe'\n",
    "print('my name is ' + name)"
   ]
  },
  {
   "cell_type": "markdown",
   "metadata": {},
   "source": [
    "This works by using string concatenation `+` to produce a single string to print.\n",
    "\n",
    "But say we wanted to print Zoe's age and tried to use concatenation:"
   ]
  },
  {
   "cell_type": "code",
   "execution_count": 2,
   "metadata": {},
   "outputs": [
    {
     "ename": "TypeError",
     "evalue": "can only concatenate str (not \"int\") to str",
     "output_type": "error",
     "traceback": [
      "\u001b[0;31m---------------------------------------------------------------------------\u001b[0m",
      "\u001b[0;31mTypeError\u001b[0m                                 Traceback (most recent call last)",
      "\u001b[0;32m<ipython-input-2-7c9f06dbcdf0>\u001b[0m in \u001b[0;36m<module>\u001b[0;34m\u001b[0m\n\u001b[1;32m      1\u001b[0m \u001b[0mage\u001b[0m \u001b[0;34m=\u001b[0m \u001b[0;36m30\u001b[0m\u001b[0;34m\u001b[0m\u001b[0;34m\u001b[0m\u001b[0m\n\u001b[0;32m----> 2\u001b[0;31m \u001b[0mprint\u001b[0m\u001b[0;34m(\u001b[0m\u001b[0;34m'age is '\u001b[0m \u001b[0;34m+\u001b[0m \u001b[0mage\u001b[0m\u001b[0;34m)\u001b[0m\u001b[0;34m\u001b[0m\u001b[0;34m\u001b[0m\u001b[0m\n\u001b[0m",
      "\u001b[0;31mTypeError\u001b[0m: can only concatenate str (not \"int\") to str"
     ]
    }
   ],
   "source": [
    "age = 30 \n",
    "print('age is ' + age)"
   ]
  },
  {
   "cell_type": "markdown",
   "metadata": {},
   "source": [
    "This does not work and results in a `TypeError: can only concatenate str (not \"int\") to str` as one cannot concatenate a string and integer\n",
    "\n",
    "So in DataCamp you have been [shown](https://campus.datacamp.com/courses/intro-to-python-for-data-science/chapter-1-python-basics?ex=12) that you can convert the an integer, using the `str()` type conversion function, before concatenating:"
   ]
  },
  {
   "cell_type": "code",
   "execution_count": 3,
   "metadata": {},
   "outputs": [
    {
     "name": "stdout",
     "output_type": "stream",
     "text": [
      "age is 30\n"
     ]
    }
   ],
   "source": [
    "print('age is ' + str(age))"
   ]
  },
  {
   "cell_type": "markdown",
   "metadata": {},
   "source": [
    "this is a good thing to show you because you learn about string concatenation and types. But lets look into slightly more readable ways to print.\n",
    "\n",
    "The first thing to show is that the print function can accept multiple arguments. Each one is processed to a string and then joined together with a space. For instance."
   ]
  },
  {
   "cell_type": "code",
   "execution_count": 4,
   "metadata": {},
   "outputs": [
    {
     "name": "stdout",
     "output_type": "stream",
     "text": [
      "h= 175 cm\n"
     ]
    }
   ],
   "source": [
    "height = 175\n",
    "print('h=', height, 'cm')"
   ]
  },
  {
   "cell_type": "markdown",
   "metadata": {},
   "source": [
    "Notice that a space has been added after the `=` and before the `cm`.\n",
    "\n",
    "If you do not want a space then this can be controlled. I can never remember the argument for this, so lets use Python's `help` function:"
   ]
  },
  {
   "cell_type": "code",
   "execution_count": 5,
   "metadata": {},
   "outputs": [
    {
     "name": "stdout",
     "output_type": "stream",
     "text": [
      "Help on built-in function print in module builtins:\n",
      "\n",
      "print(...)\n",
      "    print(value, ..., sep=' ', end='\\n', file=sys.stdout, flush=False)\n",
      "    \n",
      "    Prints the values to a stream, or to sys.stdout by default.\n",
      "    Optional keyword arguments:\n",
      "    file:  a file-like object (stream); defaults to the current sys.stdout.\n",
      "    sep:   string inserted between values, default a space.\n",
      "    end:   string appended after the last value, default a newline.\n",
      "    flush: whether to forcibly flush the stream.\n",
      "\n"
     ]
    }
   ],
   "source": [
    "help(print)"
   ]
  },
  {
   "cell_type": "markdown",
   "metadata": {},
   "source": [
    "So the argument is called `sep` so to print `h=175cm` with no spaces:"
   ]
  },
  {
   "cell_type": "code",
   "execution_count": 6,
   "metadata": {},
   "outputs": [
    {
     "name": "stdout",
     "output_type": "stream",
     "text": [
      "h=175cm\n"
     ]
    }
   ],
   "source": [
    "height = 175\n",
    "print('h=', height, 'cm', sep='')"
   ]
  },
  {
   "cell_type": "markdown",
   "metadata": {},
   "source": [
    "This is fine but printing floating numbers by default will often write many decimal places. For instance:"
   ]
  },
  {
   "cell_type": "code",
   "execution_count": 7,
   "metadata": {},
   "outputs": [
    {
     "name": "stdout",
     "output_type": "stream",
     "text": [
      "my name is Oliver age is 21.333333333333332\n"
     ]
    }
   ],
   "source": [
    "name = 'Oliver'\n",
    "age = 21 + 1/3\n",
    "print('my name is', name, 'age is', age)"
   ]
  },
  {
   "cell_type": "markdown",
   "metadata": {},
   "source": [
    "To print a sensible number of decimal places you have been shown you can use the `round` function:"
   ]
  },
  {
   "cell_type": "code",
   "execution_count": 8,
   "metadata": {},
   "outputs": [
    {
     "name": "stdout",
     "output_type": "stream",
     "text": [
      "Help on built-in function round in module builtins:\n",
      "\n",
      "round(number, ndigits=None)\n",
      "    Round a number to a given precision in decimal digits.\n",
      "    \n",
      "    The return value is an integer if ndigits is omitted or None.  Otherwise\n",
      "    the return value has the same type as the number.  ndigits may be negative.\n",
      "\n"
     ]
    }
   ],
   "source": [
    "help(round)"
   ]
  },
  {
   "cell_type": "markdown",
   "metadata": {},
   "source": [
    "For instance to print my age to one decimal place:"
   ]
  },
  {
   "cell_type": "code",
   "execution_count": 9,
   "metadata": {},
   "outputs": [
    {
     "name": "stdout",
     "output_type": "stream",
     "text": [
      "Oliver's age is 21.3 years\n"
     ]
    }
   ],
   "source": [
    "print(\"Oliver's age is \" + str(round(age,1)) + ' years')"
   ]
  },
  {
   "cell_type": "markdown",
   "metadata": {},
   "source": [
    "Although this works it produces a ugly code. Remember the Zen of Python's `Beautiful is better than ugly.` There must be a better way. There is f-strings."
   ]
  },
  {
   "cell_type": "markdown",
   "metadata": {},
   "source": [
    "## Python f-strings\n",
    "\n",
    "f-strings allow you easily construct clear strings to print. The **f** stands for formatting.\n",
    "f-strings have the `f` prefix and use {} brackets to evaluate values.\n",
    "\n",
    "For instance"
   ]
  },
  {
   "cell_type": "code",
   "execution_count": 10,
   "metadata": {},
   "outputs": [
    {
     "name": "stdout",
     "output_type": "stream",
     "text": [
      "my name is Benazir my IQ is 175\n"
     ]
    }
   ],
   "source": [
    "name = 'Benazir'\n",
    "iq = 175\n",
    "print(f'my name is {name} my IQ is {iq}')"
   ]
  },
  {
   "cell_type": "markdown",
   "metadata": {},
   "source": [
    "Notice that the f-string is easy to read.\n",
    "\n",
    "To control how a number is printed then a format specifier can be used inside the curly brackets after a `:`. For instance to print a floatting number using 2 decimal places: "
   ]
  },
  {
   "cell_type": "code",
   "execution_count": 11,
   "metadata": {},
   "outputs": [
    {
     "name": "stdout",
     "output_type": "stream",
     "text": [
      "my name is Benazir my age is 21.33\n"
     ]
    }
   ],
   "source": [
    "print(f'my name is {name} my age is {age:.2f}')"
   ]
  },
  {
   "cell_type": "markdown",
   "metadata": {},
   "source": [
    "I particularly like the `,` formatting for large integers that uses a comma to separate units of 1000"
   ]
  },
  {
   "cell_type": "code",
   "execution_count": 12,
   "metadata": {},
   "outputs": [
    {
     "name": "stdout",
     "output_type": "stream",
     "text": [
      "100,000,000\n"
     ]
    }
   ],
   "source": [
    "big = 100000000\n",
    "print(f'{big:,}')"
   ]
  },
  {
   "cell_type": "markdown",
   "metadata": {},
   "source": [
    "There are many other format specifiers for instance controlling width and left/right justification.\n",
    "\n",
    "See http://zetcode.com/python/fstring/ for a good guide"
   ]
  },
  {
   "cell_type": "markdown",
   "metadata": {},
   "source": [
    "## Older ways to format output\n",
    "\n",
    "f-strings are a fairly recent addition to Python. Before this the string format method was used:"
   ]
  },
  {
   "cell_type": "code",
   "execution_count": 13,
   "metadata": {},
   "outputs": [
    {
     "name": "stdout",
     "output_type": "stream",
     "text": [
      "my name is Benazir my age is 21.333333333333332\n"
     ]
    }
   ],
   "source": [
    "print('my name is {} my age is {}'.format(name, age))"
   ]
  },
  {
   "cell_type": "markdown",
   "metadata": {},
   "source": [
    "Although this will still work its use should be avoided. You may find examples in some of the Jupyter notebooks in this module - if so please let Oliver know.\n",
    "\n",
    "In Python 2 used `%`:"
   ]
  },
  {
   "cell_type": "code",
   "execution_count": 14,
   "metadata": {},
   "outputs": [
    {
     "name": "stdout",
     "output_type": "stream",
     "text": [
      "my name Benazir my age is 21.333333\n"
     ]
    }
   ],
   "source": [
    "print('my name %s my age is %f' % (name, age))"
   ]
  },
  {
   "cell_type": "markdown",
   "metadata": {},
   "source": [
    "You may find this in code you are maintaining."
   ]
  }
 ],
 "metadata": {
  "kernelspec": {
   "display_name": "Python 3",
   "language": "python",
   "name": "python3"
  },
  "language_info": {
   "codemirror_mode": {
    "name": "ipython",
    "version": 3
   },
   "file_extension": ".py",
   "mimetype": "text/x-python",
   "name": "python",
   "nbconvert_exporter": "python",
   "pygments_lexer": "ipython3",
   "version": "3.7.1"
  }
 },
 "nbformat": 4,
 "nbformat_minor": 2
}
